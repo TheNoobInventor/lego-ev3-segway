{
 "cells": [
  {
   "cell_type": "code",
   "execution_count": 1,
   "id": "f86fd43a-353d-4876-903a-7821c5b7571a",
   "metadata": {},
   "outputs": [],
   "source": [
    "# This notebook plots filtered gyro speed data from the main.py file (rewrite later)"
   ]
  },
  {
   "cell_type": "code",
   "execution_count": 2,
   "id": "66592c41-9205-41d2-9442-99bc3370f47a",
   "metadata": {},
   "outputs": [],
   "source": [
    "import numpy as np\n",
    "import pandas as pd\n",
    "import matplotlib.pyplot as plt\n",
    "from matplotlib.animation import FuncAnimation"
   ]
  },
  {
   "cell_type": "code",
   "execution_count": 3,
   "id": "ca7cb813-4e2d-4f90-abb8-a916a2b86dbf",
   "metadata": {},
   "outputs": [],
   "source": [
    "# Read velocity data from csv files\n",
    "filtered_speed = pd.read_csv('filtered_speed.csv')"
   ]
  },
  {
   "cell_type": "code",
   "execution_count": 4,
   "id": "6149ae73-ff17-44bb-ba0e-710031beac17",
   "metadata": {},
   "outputs": [],
   "source": [
    "# Subtract first time element from all elements in the column, then divide by 1000 to convert to seconds. (Reword better?)\n",
    "\n",
    "# right_df[' time'] = (right_df[' time'] - right_df[' time'][0]) / 1000\n",
    "# left_df[' time'] = (left_df[' time'] - left_df[' time'][0]) / 1000"
   ]
  },
  {
   "cell_type": "code",
   "execution_count": 9,
   "id": "b19d16d2-e861-471d-a536-9e2eadc2c08a",
   "metadata": {},
   "outputs": [],
   "source": [
    "# Extract data\n",
    "\n",
    "time = filtered_speed['time']\n",
    "time /= 1000\n",
    "low_pass_filter = filtered_speed[' low pass gyro']\n",
    "kalman_filter = filtered_speed[' kalman gyro']"
   ]
  },
  {
   "cell_type": "code",
   "execution_count": 10,
   "id": "3dee72ba-e027-45f6-a09e-2f9e0841b670",
   "metadata": {},
   "outputs": [
    {
     "data": {
      "text/plain": [
       "[<matplotlib.lines.Line2D at 0x7f2bd8b77550>]"
      ]
     },
     "execution_count": 10,
     "metadata": {},
     "output_type": "execute_result"
    },
    {
     "data": {
      "image/png": "[encoded data removed]",
      "text/plain": [
       "<Figure size 432x288 with 1 Axes>"
      ]
     },
     "metadata": {
      "needs_background": "light"
     },
     "output_type": "display_data"
    }
   ],
   "source": [
    "plt.plot(time, low_pass_filter)\n",
    "plt.plot(time, kalman_filter)"
   ]
  },
  {
   "cell_type": "code",
   "execution_count": null,
   "id": "384391ee-4e3e-4daa-ac07-8ac5f5109e2e",
   "metadata": {},
   "outputs": [],
   "source": []
  },
  {
   "cell_type": "code",
   "execution_count": null,
   "id": "bc52ae00-7763-4966-98ed-0d653e3da6f0",
   "metadata": {},
   "outputs": [],
   "source": []
  },
  {
   "cell_type": "code",
   "execution_count": null,
   "id": "d07cb006-ef97-4dae-a9e9-2bf5cbba80e1",
   "metadata": {},
   "outputs": [],
   "source": [
    "# Later plot an animation of the data moving"
   ]
  }
 ],
 "metadata": {
  "kernelspec": {
   "display_name": "Python 3 (ipykernel)",
   "language": "python",
   "name": "python3"
  },
  "language_info": {
   "codemirror_mode": {
    "name": "ipython",
    "version": 3
   },
   "file_extension": ".py",
   "mimetype": "text/x-python",
   "name": "python",
   "nbconvert_exporter": "python",
   "pygments_lexer": "ipython3",
   "version": "3.8.10"
  }
 },
 "nbformat": 4,
 "nbformat_minor": 5
}
